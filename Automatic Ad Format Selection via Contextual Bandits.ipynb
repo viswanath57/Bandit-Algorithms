{
 "cells": [
  {
   "cell_type": "markdown",
   "metadata": {},
   "source": [
    "- Visual design plays an important role in online display advertising: changing the layout of an online ad can increase or decrease its effectiveness.\n",
    "- To balance exploration with exploitation, authors posed automatic layout selection as a contextual bandit problem. There are many bandit algorithms, each generating a policy which must be evaluated. Its impractical to test each policy on live traffic. However authors found that offline replay(a.k.a exploration scavenging) can be adapted to provide an accurate estimator for the performance of adlayout policies at LinkedIn, using only **historical data** about the effectiveness of layout."
   ]
  },
  {
   "cell_type": "code",
   "execution_count": null,
   "metadata": {
    "collapsed": true
   },
   "outputs": [],
   "source": []
  }
 ],
 "metadata": {
  "kernelspec": {
   "display_name": "Python [default]",
   "language": "python",
   "name": "python3"
  },
  "language_info": {
   "codemirror_mode": {
    "name": "ipython",
    "version": 3
   },
   "file_extension": ".py",
   "mimetype": "text/x-python",
   "name": "python",
   "nbconvert_exporter": "python",
   "pygments_lexer": "ipython3",
   "version": "3.6.1"
  }
 },
 "nbformat": 4,
 "nbformat_minor": 2
}
