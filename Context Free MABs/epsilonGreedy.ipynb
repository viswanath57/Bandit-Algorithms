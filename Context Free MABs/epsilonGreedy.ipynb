{
 "cells": [
  {
   "cell_type": "markdown",
   "metadata": {
    "slideshow": {
     "slide_type": "slide"
    }
   },
   "source": [
    "#### Epsilon-Greedy Algorithm :-\n",
    "- With probability 1 - epsilon, the epsilon-Greedy algorithm exploits the best known option\n",
    "- With probability epsilon /2, the epsilon-Greedy algorithm explores the best known option\n",
    "- With probability epsilon /2, the epsilon-Greedys algorithm explores the wrost known option"
   ]
  },
  {
   "cell_type": "markdown",
   "metadata": {
    "slideshow": {
     "slide_type": "slide"
    }
   },
   "source": [
    "#### Multiarm Bandit algorithms?\n",
    "\n",
    "Problem :- How an idealized gambler would try to make as much money as possible in hypothetical casino?\n",
    "\n",
    "In this hypothetical casino, there's only one type of game: a slot machine, which is also sometimes called a one-argmed bandit because of its propensity to take your money. While this casino only features slot machines, it could still be an interesting place to visit because there are many different slot machines, each of which has a different payout schedule.\n",
    "\n",
    "For whatever reason, the original mathematicians decided to treat different slot machines in their thought experiment as if they were were one giant slot machine that had many arms. This led them to refer to the options in their problem as arms. It also led them to call this thought experiment the Multiarm Bandit Problem.\n",
    "\n",
    "Reward: A measure of success; it might tell us whether a customer clicked on an ad or signed up as a user.\n"
   ]
  },
  {
   "cell_type": "markdown",
   "metadata": {
    "slideshow": {
     "slide_type": "slide"
    }
   },
   "source": [
    "#### What's a Bandit Problem?\n",
    "- We are facing a complicated slot machine, called a bandit, that has a set of N arms that we can pull on.\n",
    "- When pulled, any given arm will output a reward. But there rewards are not reliable, which is why we were gambling: Arm I might give us 1 unit of reward only 1% of the time, whiLE Arm 2 might give us 1 unit of reward only 3% of the time. Any specific pull of any specific arm is risky.\n",
    "- Not only is each pull of an arm risky, we also do not start off knowing what the reward rates are for any of the arms. We have to figure this out experimentally by actually pulling on the unknown arms.\n",
    "\n",
    "Any algorithm that offers you a proposed solution to the MBP must give you a rule for selecting arms in some sequence. And this rule has to balance out your competing desires to 1) Learn about new arms and 2) earn as much reward as possible by pulling on arms your already know are good choices\n"
   ]
  },
  {
   "cell_type": "code",
   "execution_count": 2,
   "metadata": {
    "collapsed": true,
    "slideshow": {
     "slide_type": "slide"
    }
   },
   "outputs": [],
   "source": [
    "import random\n",
    "import numpy\n",
    "\n",
    "class EpsilonGreedy():\n",
    "    \n",
    "    '''\n",
    "        This class implements epsilon-Greeey Multiarm Bandit algorithm\n",
    "    '''\n",
    "    def __init__( self, epsilon, counts=[], values=[] ):\n",
    "        '''\n",
    "            epsilon : This will be a floating pointt number that tell us the frequency with which \n",
    "            we should explore one of the available arms.\n",
    "           \n",
    "            counts  : A vector of integers of length N that tells us how many time we have played \n",
    "            each of the N arms available to us in the current bandit problem.\n",
    "            \n",
    "            values  : A vector of floating point numbers that defines the average amount of reward we have gotten \n",
    "            when playing each of the N arms available to us.\n",
    "        '''\n",
    "        self.epsilon = epsilon\n",
    "        self.counts = counts\n",
    "        self. values = values\n",
    "    def __repr__(self):\n",
    "        return 'EpsilonGreedy({:.2f},{!r}, {!r})'.format(self.epsilon, self.counts, self.values)\n",
    "    def updateEpsilon():\n",
    "        '''\n",
    "        Updates epsilon after each trail\n",
    "        '''\n",
    "        self.epsilon  -= (   numpy.power(self.epsilon, 4) )\n",
    "    def initialize(self, n_arms):\n",
    "        # Intializing / reset rewards & counts to zeros for each arm(or option)\n",
    "        self.counts = [ 0 for col in range(n_arms) ]\n",
    "        self.values = [ 0.0 for col in range(n_arms) ]\n",
    "    \n",
    "    def select_arm(self):\n",
    "        ''' Returns the index of the next arm to pull '''\n",
    "        \n",
    "        if random.random() > self.epsilon:\n",
    "            m = max( self.values  )            \n",
    "            if ( m > 0.0 ) :\n",
    "                return self.values.index(m)\n",
    "            else:\n",
    "                return random.randrange( len( self.values) )\n",
    "            \n",
    "        else:\n",
    "            return random.randrange( len( self.values) )\n",
    "        \n",
    "    \n",
    "    def update(self, chosen_arm, reward):\n",
    "        '''        \n",
    "        After we pull an arm, we get a reward signal back from our system. This function update our algorithm's beliefs\n",
    "        about the quality of the arm we just chose by providing this reward information.\n",
    "        \n",
    "        chosen_arm : The numeric index of the most recently chosen arm\n",
    "        reward     : The reward received from chossing that arm\n",
    "        '''\n",
    "        self.counts[ chosen_arm ] += 1\n",
    "        n = self.counts[ chosen_arm ]\n",
    "        value = self.values[chosen_arm]\n",
    "        new_value = ( ( n-1 ) * value + reward ) / float(n) \n",
    "        self.values[chosen_arm] = new_value\n",
    "    \n"
   ]
  },
  {
   "cell_type": "code",
   "execution_count": 2,
   "metadata": {
    "slideshow": {
     "slide_type": "slide"
    }
   },
   "outputs": [
    {
     "name": "stdout",
     "output_type": "stream",
     "text": [
      "Epsilon Greedy object for A/B testing framework:-  EpsilonGreedy(1.00,[0, 0], [0.0, 0.0])\n",
      "Epsilon Greedy object for profit maximization:-  EpsilonGreedy(0.00,[0, 0], [0.0, 0.0])\n"
     ]
    }
   ],
   "source": [
    "# Explore - Exploit tradeoff :- completely explore ( A/B Testing )\n",
    "\n",
    "algo = EpsilonGreedy(1.0)\n",
    "algo.initialize(2)\n",
    "print ( \"Epsilon Greedy object for A/B testing framework:- \", algo)\n",
    "\n",
    "algo.epsilon = 0\n",
    "print ( \"Epsilon Greedy object for profit maximization:- \", algo)\n",
    "\n",
    "\n"
   ]
  },
  {
   "cell_type": "code",
   "execution_count": 4,
   "metadata": {
    "collapsed": true
   },
   "outputs": [],
   "source": [
    "?EpsilonGreedy.update"
   ]
  },
  {
   "cell_type": "code",
   "execution_count": 103,
   "metadata": {
    "slideshow": {
     "slide_type": "slide"
    }
   },
   "outputs": [
    {
     "name": "stdout",
     "output_type": "stream",
     "text": [
      "total reward:- 1001.00  =>  EpsilonGreedy(0.00,[99915, 85], [0.010018515738377655, 0.0])\n",
      "total reward:- 1166.00  =>  EpsilonGreedy(0.10,[7817, 92183], [0.010489957784316242, 0.011759218077085761])\n",
      "total reward:- 1132.00  =>  EpsilonGreedy(0.20,[17677, 82323], [0.01018272331277931, 0.011564204414319166])\n",
      "total reward:- 1144.00  =>  EpsilonGreedy(0.30,[29167, 70833], [0.010285596736037341, 0.01191535018988322])\n",
      "total reward:- 1167.00  =>  EpsilonGreedy(0.40,[20108, 79892], [0.00994629003381738, 0.012103840184248756])\n",
      "total reward:- 1149.00  =>  EpsilonGreedy(0.50,[26471, 73529], [0.009670960673945087, 0.01214486801126088])\n",
      "total reward:- 1145.00  =>  EpsilonGreedy(0.60,[33379, 66621], [0.009826537643428423, 0.012263400429294106])\n",
      "total reward:- 1152.00  =>  EpsilonGreedy(0.70,[36818, 63182], [0.010809929925579885, 0.011933778607831303])\n",
      "total reward:- 1098.00  =>  EpsilonGreedy(0.80,[41273, 58727], [0.01007922855135328, 0.011613057026580657])\n",
      "total reward:- 1067.00  =>  EpsilonGreedy(0.90,[44793, 55207], [0.009755988658942352, 0.011411596355534615])\n",
      "total reward:- 1098.00  =>  EpsilonGreedy(1.00,[50154, 49846], [0.009769908681261662, 0.012197568511013994])\n"
     ]
    },
    {
     "data": {
      "image/png": "[encoded data removed]",
      "text/plain": [
       "<matplotlib.figure.Figure at 0x218772259e8>"
      ]
     },
     "metadata": {},
     "output_type": "display_data"
    }
   ],
   "source": [
    "armsRewardForGivenTrial = lambda x : numpy.random.choice( (\"s\", \"f\"), p=[ x, 1-x])\n",
    "\n",
    "\n",
    "successProbabilities = [ 0.01, 0.012 ] # Options success rates in Hindsight\n",
    "\n",
    "totalRewardForEachEpsilon = []\n",
    "\n",
    "for eEpsilon in numpy.arange(0.0, 1.1, 0.1):\n",
    "    p = EpsilonGreedy( eEpsilon,[0,0],[0,0])\n",
    "    for ee in range(100000):\n",
    "        chosen_arm = p.select_arm() \n",
    "        p.update ( chosen_arm , 1 if armsRewardForGivenTrial(successProbabilities[chosen_arm]) == 's' else 0 )\n",
    "    \n",
    "    totalReward = sum( [ i*j for i,j in zip( p.counts, p.values)] )\n",
    "    \n",
    "    totalRewardForEachEpsilon.append( (p.epsilon, totalReward) )\n",
    "    print ( \"total reward:- {0:.2f}\".format(  totalReward ) ,  \" => \",  p)\n",
    "\n",
    "import pandas\n",
    "rewardsDF = pandas.DataFrame( totalRewardForEachEpsilon, columns=[\"epsilon\", \"total_reward\"])\n",
    "\n",
    "import matplotlib.pyplot as plt\n",
    "plt.scatter(rewardsDF['epsilon'], rewardsDF['total_reward'])\n",
    "plt.title(\"epsilon - greedy algorithm\")\n",
    "plt.xlabel(\"epsilon\")\n",
    "plt.ylabel(\"total reward\")\n",
    "plt.show() # Depending on whether you use IPython or interactive mode, etc."
   ]
  },
  {
   "cell_type": "code",
   "execution_count": 102,
   "metadata": {
    "slideshow": {
     "slide_type": "subslide"
    }
   },
   "outputs": [
    {
     "name": "stdout",
     "output_type": "stream",
     "text": [
      "total reward:- 1483.00  =>  EpsilonGreedy(0.00,[21, 99979], [0.0, 0.014833114954140365])\n",
      "total reward:- 1429.00  =>  EpsilonGreedy(0.10,[5087, 94913], [0.0133674071161785, 0.014339447704740127])\n",
      "total reward:- 1437.00  =>  EpsilonGreedy(0.20,[10740, 89260], [0.01042830540037247, 0.01484427515124366])\n",
      "total reward:- 1425.00  =>  EpsilonGreedy(0.30,[15451, 84549], [0.011714452139020124, 0.014713361482690515])\n",
      "total reward:- 1398.00  =>  EpsilonGreedy(0.40,[20043, 79957], [0.00937983335827969, 0.015133134059557006])\n",
      "total reward:- 1424.00  =>  EpsilonGreedy(0.50,[25037, 74963], [0.010664216958900836, 0.0154342809119166])\n",
      "total reward:- 1331.00  =>  EpsilonGreedy(0.60,[29974, 70026], [0.009408153733235504, 0.014980150229914583])\n",
      "total reward:- 1373.00  =>  EpsilonGreedy(0.70,[34801, 65199], [0.010315795523117097, 0.015552385772787884])\n",
      "total reward:- 1292.00  =>  EpsilonGreedy(0.80,[39997, 60003], [0.009875740680551094, 0.014949252537373128])\n",
      "total reward:- 1239.00  =>  EpsilonGreedy(0.90,[45176, 54824], [0.009274836196210397, 0.014956953159200289])\n",
      "total reward:- 1281.00  =>  EpsilonGreedy(1.00,[49874, 50126], [0.009985162609776648, 0.015620635997286714])\n"
     ]
    },
    {
     "data": {
      "image/png": "[encoded data removed]",
      "text/plain": [
       "<matplotlib.figure.Figure at 0x218771f6278>"
      ]
     },
     "metadata": {},
     "output_type": "display_data"
    }
   ],
   "source": [
    "armsRewardForGivenTrial = lambda x : numpy.random.choice( (\"s\", \"f\"), p=[ x, 1-x])\n",
    "\n",
    "\n",
    "successProbabilities = [ 0.01, 0.015 ] # Options success rates in Hindsight\n",
    "\n",
    "totalRewardForEachEpsilon = []\n",
    "\n",
    "for eEpsilon in numpy.arange(0.0, 1.1, 0.1):\n",
    "    p = EpsilonGreedy( eEpsilon,[0,0],[0,0])\n",
    "    for ee in range(100000):\n",
    "        chosen_arm = p.select_arm() \n",
    "        p.update ( chosen_arm , 1 if armsRewardForGivenTrial(successProbabilities[chosen_arm]) == 's' else 0 )\n",
    "    \n",
    "    totalReward = sum( [ i*j for i,j in zip( p.counts, p.values)] )\n",
    "    \n",
    "    totalRewardForEachEpsilon.append( (p.epsilon, totalReward) )\n",
    "    print ( \"total reward:- {0:.2f}\".format(  totalReward ) ,  \" => \",  p)\n",
    "\n",
    "import pandas\n",
    "rewardsDF = pandas.DataFrame( totalRewardForEachEpsilon, columns=[\"epsilon\", \"total_reward\"])\n",
    "\n",
    "import matplotlib.pyplot as plt\n",
    "plt.scatter(rewardsDF['epsilon'], rewardsDF['total_reward'])\n",
    "plt.title(\"epsilon - greedy algorithm\")\n",
    "plt.xlabel(\"epsilon\")\n",
    "plt.ylabel(\"total reward\")\n",
    "plt.show() # Depending on whether you use IPython or interactive mode, etc."
   ]
  },
  {
   "cell_type": "code",
   "execution_count": 99,
   "metadata": {
    "slideshow": {
     "slide_type": "subslide"
    }
   },
   "outputs": [
    {
     "name": "stdout",
     "output_type": "stream",
     "text": [
      "total reward:- 2097.00  =>  EpsilonGreedy(0.00,[101, 99899], [0.0, 0.020991201113124254])\n",
      "total reward:- 1977.00  =>  EpsilonGreedy(0.10,[5073, 94927], [0.0084762467967672, 0.020373550201734057])\n",
      "total reward:- 1890.00  =>  EpsilonGreedy(0.20,[10075, 89925], [0.007642679900744388, 0.020161245482346282])\n",
      "total reward:- 1808.00  =>  EpsilonGreedy(0.30,[16480, 83520], [0.009041262135922282, 0.019863505747126746])\n",
      "total reward:- 1787.00  =>  EpsilonGreedy(0.40,[20054, 79946], [0.009673880522589037, 0.01992595001626124])\n",
      "total reward:- 1732.00  =>  EpsilonGreedy(0.50,[25091, 74909], [0.009923877087401807, 0.019797354123002465])\n",
      "total reward:- 1705.00  =>  EpsilonGreedy(0.60,[29613, 70387], [0.010265761658730959, 0.019904243681361754])\n",
      "total reward:- 1637.00  =>  EpsilonGreedy(0.70,[35089, 64911], [0.009860640086636905, 0.01988877077845041])\n",
      "total reward:- 1596.00  =>  EpsilonGreedy(0.80,[40231, 59769], [0.010663418756680174, 0.019525171911860734])\n",
      "total reward:- 1558.00  =>  EpsilonGreedy(0.90,[44890, 55110], [0.009578970817554074, 0.02046815459989106])\n",
      "total reward:- 1509.00  =>  EpsilonGreedy(1.00,[49983, 50017], [0.009963387551767655, 0.020213127536637874])\n"
     ]
    },
    {
     "data": {
      "image/png": "[encoded data removed]",
      "text/plain": [
       "<matplotlib.figure.Figure at 0x21875239da0>"
      ]
     },
     "metadata": {},
     "output_type": "display_data"
    }
   ],
   "source": [
    "armsRewardForGivenTrial = lambda x : numpy.random.choice( (\"s\", \"f\"), p=[ x, 1-x])\n",
    "\n",
    "\n",
    "successProbabilities = [ 0.01, 0.02 ] # Options success rates in Hindsight\n",
    "\n",
    "totalRewardForEachEpsilon = []\n",
    "\n",
    "for eEpsilon in numpy.arange(0.0, 1.1, 0.1):\n",
    "    p = EpsilonGreedy( eEpsilon,[0,0],[0,0])\n",
    "    for ee in range(100000):\n",
    "        chosen_arm = p.select_arm() \n",
    "        p.update ( chosen_arm , 1 if armsRewardForGivenTrial(successProbabilities[chosen_arm]) == 's' else 0 )\n",
    "    \n",
    "    totalReward = sum( [ i*j for i,j in zip( p.counts, p.values)] )\n",
    "    \n",
    "    totalRewardForEachEpsilon.append( (p.epsilon, totalReward) )\n",
    "    print ( \"total reward:- {0:.2f}\".format(  totalReward ) ,  \" => \",  p)\n",
    "\n",
    "import pandas\n",
    "rewardsDF = pandas.DataFrame( totalRewardForEachEpsilon, columns=[\"epsilon\", \"total_reward\"])\n",
    "\n",
    "import matplotlib.pyplot as plt\n",
    "plt.scatter(rewardsDF['epsilon'], rewardsDF['total_reward'])\n",
    "plt.title(\"epsilon - greedy algorithm\")\n",
    "plt.xlabel(\"epsilon\")\n",
    "plt.ylabel(\"total reward\")\n",
    "plt.show() # Depending on whether you use IPython or interactive mode, etc."
   ]
  },
  {
   "cell_type": "code",
   "execution_count": 8,
   "metadata": {
    "collapsed": true
   },
   "outputs": [],
   "source": [
    "\n",
    "import pandas\n",
    "import numpy\n",
    "\n",
    "def epsilonGreedyPlots( successProbabilities, noOfTrails):\n",
    "    armsRewardForGivenTrial = lambda x : numpy.random.choice( (\"s\", \"f\"), p=[ x, 1-x])\n",
    "    totalRewardForEachEpsilon = []\n",
    "    for eEpsilon in numpy.arange(0.0, 1.1, 0.1):\n",
    "        p = EpsilonGreedy( eEpsilon )\n",
    "        for ee in range(noOfTrails):\n",
    "            chosen_arm = p.select_arm() \n",
    "            p.update ( chosen_arm , 1 if armsRewardForGivenTrial(successProbabilities[chosen_arm]) == 's' else 0 )\n",
    "\n",
    "        totalReward = sum( [ i*j for i,j in zip( p.counts, p.values)] )\n",
    "\n",
    "        totalRewardForEachEpsilon.append( (p.epsilon, totalReward) )\n",
    "#         print ( \"total reward:- {0:.2f}\".format(  totalReward ) ,  \" => \",  p)\n",
    "\n",
    "    return pandas.DataFrame( totalRewardForEachEpsilon, columns=[\"epsilon\", \"total_reward\"])"
   ]
  },
  {
   "cell_type": "code",
   "execution_count": 13,
   "metadata": {},
   "outputs": [
    {
     "data": {
      "image/png": "[encoded data removed]",
      "text/plain": [
       "<matplotlib.figure.Figure at 0x1978035bd30>"
      ]
     },
     "metadata": {},
     "output_type": "display_data"
    },
    {
     "data": {
      "image/png": "[encoded data removed]",
      "text/plain": [
       "<matplotlib.figure.Figure at 0x19780014b70>"
      ]
     },
     "metadata": {},
     "output_type": "display_data"
    },
    {
     "data": {
      "image/png": "[encoded data removed]",
      "text/plain": [
       "<matplotlib.figure.Figure at 0x1978044c668>"
      ]
     },
     "metadata": {},
     "output_type": "display_data"
    },
    {
     "data": {
      "image/png": "[encoded data removed]",
      "text/plain": [
       "<matplotlib.figure.Figure at 0x197805e25f8>"
      ]
     },
     "metadata": {},
     "output_type": "display_data"
    },
    {
     "data": {
      "image/png": "[encoded data removed]",
      "text/plain": [
       "<matplotlib.figure.Figure at 0x19780617470>"
      ]
     },
     "metadata": {},
     "output_type": "display_data"
    },
    {
     "data": {
      "image/png": "[encoded data removed]",
      "text/plain": [
       "<matplotlib.figure.Figure at 0x1978003f198>"
      ]
     },
     "metadata": {},
     "output_type": "display_data"
    }
   ],
   "source": [
    "import numpy\n",
    "import matplotlib.pyplot as plt\n",
    "plt.figure(1 )\n",
    "\n",
    "noOfTrails = 100000\n",
    "\n",
    "successProbabilities = [ 0.01, 0.01 ] # Options success rates in Hindsight\n",
    "rewardsDF = epsilonGreedyPlots( successProbabilities, noOfTrails )\n",
    "plt.subplot(231)\n",
    "plt.plot(rewardsDF['epsilon'], rewardsDF['total_reward'], 'ro' )\n",
    "plt.title( \"eg with probs {!r}\". format(successProbabilities) )\n",
    "plt.xlabel(\"epsilon\")\n",
    "plt.ylabel(\"total reward\")\n",
    "\n",
    "plt.show() # Depending on whether you use IPython or interactive mode, etc.\n",
    "\n",
    "successProbabilities = [ 0.01, 0.011 ] # Options success rates in Hindsight\n",
    "rewardsDF = epsilonGreedyPlots( successProbabilities, noOfTrails )\n",
    "plt.subplot(232)\n",
    "plt.plot(rewardsDF['epsilon'], rewardsDF['total_reward'], 'ro')\n",
    "plt.title( \"eg with probs {!r}\". format(successProbabilities) )\n",
    "plt.xlabel(\"epsilon\")\n",
    "plt.ylabel(\"total reward\")\n",
    "plt.show() # Depending on whether you use IPython or interactive mode, etc.\n",
    "\n",
    "successProbabilities = [ 0.01, 0.012 ] # Options success rates in Hindsight\n",
    "rewardsDF = epsilonGreedyPlots( successProbabilities, noOfTrails)\n",
    "plt.subplot(233)\n",
    "plt.plot(rewardsDF['epsilon'], rewardsDF['total_reward'], 'ro')\n",
    "plt.title( \"eg with probs {!r}\". format(successProbabilities) )\n",
    "plt.xlabel(\"epsilon\")\n",
    "plt.ylabel(\"total reward\")\n",
    "plt.show() # Depending on whether you use IPython or interactive mode, etc.\n",
    "\n",
    "\n",
    "successProbabilities = [ 0.01, 0.013 ] # Options success rates in Hindsight\n",
    "rewardsDF = epsilonGreedyPlots( successProbabilities, noOfTrails )\n",
    "plt.subplot(234)\n",
    "plt.plot(rewardsDF['epsilon'], rewardsDF['total_reward'], 'ro')\n",
    "plt.title( \"eg with probs {!r}\". format(successProbabilities) )\n",
    "plt.xlabel(\"epsilon\")\n",
    "plt.ylabel(\"total reward\")\n",
    "plt.show() # Depending on whether you use IPython or interactive mode, etc.\n",
    "\n",
    "successProbabilities = [ 0.01, 0.016 ] # Options success rates in Hindsight\n",
    "rewardsDF = epsilonGreedyPlots( successProbabilities, noOfTrails )\n",
    "plt.subplot(235)\n",
    "plt.plot(rewardsDF['epsilon'], rewardsDF['total_reward'], 'ro')\n",
    "plt.title( \"eg with probs {!r}\". format(successProbabilities) )\n",
    "plt.xlabel(\"epsilon\")\n",
    "plt.ylabel(\"total reward\")\n",
    "plt.show() # Depending on whether you use IPython or interactive mode, etc.\n",
    "\n",
    "successProbabilities = [ 0.01, 0.02 ] # Options success rates in Hindsight\n",
    "rewardsDF = epsilonGreedyPlots( successProbabilities, noOfTrails )\n",
    "plt.subplot(236)\n",
    "plt.plot(rewardsDF['epsilon'], rewardsDF['total_reward'], 'ro')\n",
    "plt.title( \"eg with probs {!r}\". format(successProbabilities) )\n",
    "plt.xlabel(\"epsilon\")\n",
    "plt.ylabel(\"total reward\")\n",
    "plt.show() # Depending on whether you use IPython or interactive mode, etc.\n"
   ]
  },
  {
   "cell_type": "code",
   "execution_count": 7,
   "metadata": {
    "collapsed": true
   },
   "outputs": [],
   "source": [
    "import random\n",
    "import numpy\n",
    "import math\n",
    "\n",
    "class AnnealingEpsilonGreedy():\n",
    "    \n",
    "    '''\n",
    "        This class implements epsilon-Greeey Multiarm Bandit algorithm\n",
    "    '''\n",
    "    def __init__( self, counts=[], values=[] ):\n",
    "        '''\n",
    "            epsilon : This will be a floating pointt number that tell us the frequency with which \n",
    "            we should explore one of the available arms.\n",
    "           \n",
    "            counts  : A vector of integers of length N that tells us how many time we have played \n",
    "            each of the N arms available to us in the current bandit problem.\n",
    "            \n",
    "            values  : A vector of floating point numbers that defines the average amount of reward we have gotten \n",
    "            when playing each of the N arms available to us.\n",
    "        '''\n",
    "#         self.epsilon = epsilon\n",
    "        self.counts = counts\n",
    "        self. values = values\n",
    "    def __repr__(self):\n",
    "        return 'AnnealingEpsilonGreedy({!r}, {!r})'.format( self.counts, self.values)\n",
    "    def updateEpsilon():\n",
    "        '''\n",
    "        Updates epsilon after each trail\n",
    "        '''\n",
    "        self.epsilon  -= (   numpy.power(self.epsilon, 4) )\n",
    "    def initialize(self, n_arms):\n",
    "        # Intializing / reset rewards & counts to zeros for each arm(or option)\n",
    "        self.counts = [ 0 for col in range(n_arms) ]\n",
    "        self.values = [ 0.0 for col in range(n_arms) ]\n",
    "    \n",
    "    def select_arm(self):\n",
    "        ''' Returns the index of the next arm to pull '''\n",
    "        t = sum(self.counts) + 1\n",
    "        epsilon = 1 / math.log(t + 0.0000001 )\n",
    "        \n",
    "        if random.random() > epsilon:\n",
    "            m = max( self.values  )            \n",
    "            if ( m > 0.0 ) :\n",
    "                return self.values.index(m)\n",
    "            else:\n",
    "                return random.randrange( len( self.values) )\n",
    "            \n",
    "        else:\n",
    "            return random.randrange( len( self.values) )\n",
    "        \n",
    "    \n",
    "    def update(self, chosen_arm, reward):\n",
    "        '''        \n",
    "        After we pull an arm, we get a reward signal back from our system. This function update our algorithm's beliefs\n",
    "        about the quality of the arm we just chose by providing this reward information.\n",
    "        \n",
    "        chosen_arm : The numeric index of the most recently chosen arm\n",
    "        reward     : The reward received from chossing that arm\n",
    "        '''\n",
    "        self.counts[ chosen_arm ] += 1\n",
    "        n = self.counts[ chosen_arm ]\n",
    "        value = self.values[chosen_arm]\n",
    "        new_value = ( ( n-1 ) * value + reward ) / float(n) \n",
    "        self.values[chosen_arm] = new_value\n",
    "    \n"
   ]
  }
 ],
 "metadata": {
  "celltoolbar": "Slideshow",
  "kernelspec": {
   "display_name": "Python 3",
   "language": "python",
   "name": "python3"
  },
  "language_info": {
   "codemirror_mode": {
    "name": "ipython",
    "version": 3
   },
   "file_extension": ".py",
   "mimetype": "text/x-python",
   "name": "python",
   "nbconvert_exporter": "python",
   "pygments_lexer": "ipython3",
   "version": "3.7.4"
  }
 },
 "nbformat": 4,
 "nbformat_minor": 2
}
