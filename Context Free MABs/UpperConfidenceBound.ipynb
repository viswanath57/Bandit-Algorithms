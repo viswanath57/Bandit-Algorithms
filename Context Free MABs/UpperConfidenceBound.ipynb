{
 "cells": [
  {
   "cell_type": "markdown",
   "metadata": {},
   "source": [
    "#### The Upper Confidence Bound Algorithm\n",
    "- Epsilon Greedy and Softmax does not keep track of how much they know about any of the arms available to them. They pay attention only to _how much reward they have gotten from the arms_. This means that they will under explore options whose initial experiences were not rewarding , even though they do not have enough data to be confident about those arms.\n",
    "- We can do better by using an algorithm that pays attention to not only what it knows, but also how much it knows.\n",
    "- UCB does not use randomness at all. Unlinke epsilon-greedy or softmax, it's possible to know exactly how UCB algorithm will behave in any given situation. This can make it easier to reason about at times.\n",
    "- UCB keep track of our confidence in our assessment of the estimated values of all of the arms.\n",
    "- UCB does not have any free parameters that you need to configure before you can deploy it. This is a major improvement if you were interested in runnning it in the wild, because it means that you can start to use UCB without having a clear sense of what you expect the world to behave like.\n",
    "- _**Taken together, thse use of an explicit measure of confidence, the absense of randomness and the absense of configurable parameter makes UCB very compelling**_"
   ]
  },
  {
   "cell_type": "code",
   "execution_count": 4,
   "metadata": {
    "collapsed": true
   },
   "outputs": [],
   "source": [
    "import numpy\n",
    "import math\n"
   ]
  },
  {
   "cell_type": "code",
   "execution_count": 8,
   "metadata": {
    "collapsed": true
   },
   "outputs": [],
   "source": [
    "class UCB1():\n",
    "    def __init__(self, counts=[], values=[] ) :\n",
    "        self.counts = counts\n",
    "        self.values = values\n",
    "    def __repr__(self):\n",
    "        return( \"UCB1({!r}{!r})\".format(self.counts, self.values))\n",
    "    def initialize(self, n_arms):\n",
    "        self.counts = [ 0 for col in range(n_arms) ]\n",
    "        self.values = [ 0.0 for col in range(n_arms) ]\n",
    "    \n",
    "    def select_arm ( self ):\n",
    "        n_arms = len(self.counts)\n",
    "        \n",
    "        '''\n",
    "        Following few lines of code ensure ensure UCB does not have a cold start before it starts to \n",
    "        apply its confidence based decision rule'''\n",
    "        for arm in range(n_arms):\n",
    "            if self.counts[arm] == 0:\n",
    "                return arm\n",
    "        \n",
    "        ucb_values = [ 0.0 for arm in range(n_arms) ]\n",
    "        total_counts = sum( self.counts )\n",
    "        for arm in range(n_arms):\n",
    "            bonus = math.sqrt( 2 * math.log(total_counts) ) / float( self.counts[arm] )\n",
    "            ucb_values[arm] = self.values[arm] + bonus \n",
    "        \n",
    "        '''\n",
    "            The most basic statement that can be made about it is that it augments the estimated value of any arm with a \n",
    "            measure of how less about that arm than we know about the arms.\n",
    "            These rescaling terms allow the algorithm to define a confidence interval that has a reasonable chance of \n",
    "            containing the true value of the arm inside of it. UCB creates its ucb_values by replacing every arm's estimated\n",
    "            value with the upper bound on the confidence interval for its value.r\n",
    "            \n",
    "        '''\n",
    "        return ucb_values.index( max( ucb_values  ) )\n",
    "            \n",
    "    \n",
    "    def update( self, chosen_arm, reward ):\n",
    "        self.counts[chosen_arm] += 1\n",
    "        n = self.counts[chosen_arm]\n",
    "        \n",
    "        value = self.values[ chosen_arm ]\n",
    "        new_value = ( (n-1)* value + reward ) / float(n)\n",
    "        self.values[chosen_arm] = new_value\n",
    "        \n",
    "        \n",
    "        "
   ]
  },
  {
   "cell_type": "code",
   "execution_count": 10,
   "metadata": {
    "collapsed": true
   },
   "outputs": [],
   "source": [
    "import nbimporter\n",
    "import random\n",
    "import DebuggingBanditAlgorithms\n",
    "import math\n",
    "\n",
    "from DebuggingBanditAlgorithms import BernoulliArm\n",
    "from DebuggingBanditAlgorithms import testing_algorithm\n",
    "\n",
    "random.seed(1)\n",
    "means = [ 0.1, 0.1, 0.1, 0.1, 0.9]\n",
    "n_arms = len(means)\n",
    "random.shuffle(means)\n",
    "arms = [  BernoulliArm(mu) for mu in means ]\n",
    "\n",
    "f = open( 'ucb1_esults.tsv', 'w')\n",
    "\n",
    "algo = UCB1 ( )\n",
    "algo.initialize(n_arms)\n",
    "results = testing_algorithm ( algo, arms, 5000, 250 )\n",
    "for i in range( len(results[0]) ):\n",
    "    f.write( '\\t'.join( [ str( results[j][i]) for j in range( len(results) ) ] )  + '\\n')\n",
    "f.close()"
   ]
  },
  {
   "cell_type": "code",
   "execution_count": 18,
   "metadata": {},
   "outputs": [
    {
     "name": "stdout",
     "output_type": "stream",
     "text": [
      "0.03716922188849838\n",
      "0.01858461094424919\n",
      "0.0074338443776996764\n",
      "0.005309888841214055\n",
      "0.0037169221888498382\n"
     ]
    }
   ],
   "source": [
    "# Why UCB is a explicitly curious algorithm that tries to seek out the unknown\n",
    "total_counts = 1000\n",
    "arm_count = 1000\n",
    "\n",
    "print( math.sqrt( 2 * math.log(1000) ) / float( 100 ) )\n",
    "print( math.sqrt( 2 * math.log(1000) ) / float( 200 ) )\n",
    "print( math.sqrt( 2 * math.log(1000) ) / float( 500 ) )\n",
    "print( math.sqrt( 2 * math.log(1000) ) / float( 700 ) )\n",
    "print( math.sqrt( 2 * math.log(1000) ) / float( 1000 ) )\n"
   ]
  },
  {
   "cell_type": "code",
   "execution_count": 11,
   "metadata": {},
   "outputs": [
    {
     "data": {
      "text/plain": [
       "UCB1([][])"
      ]
     },
     "execution_count": 11,
     "metadata": {},
     "output_type": "execute_result"
    }
   ],
   "source": [
    "UCB1()"
   ]
  }
 ],
 "metadata": {
  "kernelspec": {
   "display_name": "Python [default]",
   "language": "python",
   "name": "python3"
  },
  "language_info": {
   "codemirror_mode": {
    "name": "ipython",
    "version": 3
   },
   "file_extension": ".py",
   "mimetype": "text/x-python",
   "name": "python",
   "nbconvert_exporter": "python",
   "pygments_lexer": "ipython3",
   "version": "3.6.1"
  }
 },
 "nbformat": 4,
 "nbformat_minor": 2
}
