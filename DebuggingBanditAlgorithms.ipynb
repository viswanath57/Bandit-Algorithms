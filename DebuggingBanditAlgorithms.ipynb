{
 "cells": [
  {
   "cell_type": "markdown",
   "metadata": {},
   "source": [
    "_**Monte Carlo Simulations are like Unit tests for Bandit Algorithms:-**_\n",
    "\n",
    "- Bandit algorithms have to actively select which data you should acquire and analyze that data in real time. Indeed, bandit algorithms exemplify two types of learning that are not present in standard ML examples: active learning, which refers to algorithms that actively select which data they should receive; and online learning, which refers to algorithms that analyze data in real-time and provide results on the fly.\n",
    "- The behavior of the algorithm depends on the data it sees, but the data the algorithm sees depends on the behavior of the algorithm.\n",
    "\n",
    "- A Monte Carlo simulation will let out implementation of a bandit algorithm actively make decisions about which data it will receive, because our simulations will be able to provide simulated data in real-time to the algorithm for analysis.\n",
    "\n",
    "- In short, we are going to deal with the feedback cycle by coding up both our bandit algorithm and a simulation of the bandit's arms that the algorithm has to select between.\n",
    "- The two pieces of code then work together to generate an example of how the algorithm might really function in production.\n",
    "\n",
    "\n",
    "_** Optimizing click-through rates **_\n",
    "- Every time we show someone an ad, we will imagine that thers's a fixed probability that they will click on the ad. The bandit algorithm will then estimate this probability and try to decide on a strategy for showing ads that maximizes the click-through rate.\n",
    "_**Conversion rates for new users**_\n",
    "- Every time a new visitor comes to our site who is not already a registered user, we will imagine that there's a fixed probability that they will register as a user after seeing the landing page. We will then estimate this probability and try to decide on a strategy for maximizing our conversion rate.\n"
   ]
  },
  {
   "cell_type": "code",
   "execution_count": 1,
   "metadata": {},
   "outputs": [
    {
     "data": {
      "text/plain": [
       "BernoulliArm probability: 0.20"
      ]
     },
     "execution_count": 1,
     "metadata": {},
     "output_type": "execute_result"
    }
   ],
   "source": [
    "\n",
    "class BernoulliArm():\n",
    "    '''\n",
    "        Simulating hypothetical arm\n",
    "        BernoulliArm :- An arm that rewards you with a value of 1 some percentage of the time and rewards you with a value of 0 \n",
    "        the rest of the time ( 1 - x )\n",
    "    '''\n",
    "    def __init__(self, p):\n",
    "        self.p = p\n",
    "    def __repr__(self):\n",
    "        return( 'BernoulliArm probability: {0:.2f}'.format(self.p) )\n",
    "    def draw(self):\n",
    "        if random.random() > self.p:\n",
    "            return 0.0 \n",
    "        else:\n",
    "            return 1.0\n",
    "    \n",
    "BernoulliArm(0.2)"
   ]
  },
  {
   "cell_type": "code",
   "execution_count": 2,
   "metadata": {
    "collapsed": true
   },
   "outputs": [],
   "source": [
    "def testing_algorithm(  algo, arms, num_sims, horizon ):\n",
    "        '''\n",
    "            algo : A bandit algorithm we want to test ( epsilon-greedy, UCB, Softmax, ...)\n",
    "            arms : An array of arms we want to simulate draws from\n",
    "            num_sims : A fixed number of simulations to run to average over the noise in each simulation\n",
    "            horizon : The number of times each algorithm is allowed to pull on arms during each simulation. Any algorithm that's\n",
    "            not terrible will eventually learn which arm is best; the interesting thing to study in a simulation is whether\n",
    "            an algorithm does well when it only has 100 ( or 100k ) tries to find the best arm\n",
    "        '''\n",
    "        chosen_arms = [ 0.0 for i in range(num_sims * horizon) ] \n",
    "        rewards = [ 0.0 for i in range( num_sims *horizon)]\n",
    "        cumulative_rewards = [ 0.0 for i in range(num_sims * horizon) ]\n",
    "        sim_nums = [ 0.0 for i in range(num_sims*horizon)]\n",
    "        times = [ 0.0 for i in range(num_sims*horizon)]\n",
    "        \n",
    "        for sim in range( num_sims ):\n",
    "            sim += 1 # because range generates numbers from 0\n",
    "            algo.initialize( len(arms) )\n",
    "            \n",
    "            for t in range( horizon) :\n",
    "                t += 1\n",
    "                index = ( sim - 1 ) * horizon + t - 1 \n",
    "                \n",
    "                sim_nums[index] = sim\n",
    "                times[index] = t\n",
    "                \n",
    "                chosen_arm = algo.select_arm() # draws based on epsilon\n",
    "                chosen_arms[index] = chosen_arm\n",
    "                \n",
    "                reward = arms[chosen_arms[index]].draw() # draws based on success rate\n",
    "                rewards[index] = reward\n",
    "                \n",
    "                if t == 1 :\n",
    "                    cumulative_rewards[index] = reward\n",
    "                else:\n",
    "                    cumulative_rewards[index] = cumulative_rewards[index-1] + reward\n",
    "                    \n",
    "                algo.update( chosen_arm, reward)\n",
    "        return [ sim_nums, times, chosen_arms, rewards, cumulative_rewards]"
   ]
  },
  {
   "cell_type": "code",
   "execution_count": 6,
   "metadata": {},
   "outputs": [
    {
     "name": "stdout",
     "output_type": "stream",
     "text": [
      "Best arms is 2 with success rate of 0.9\n"
     ]
    }
   ],
   "source": [
    "'''\n",
    "    Simulation for standard epsilon-greedy algorithm with 5 arms, whose esimated sucess rates : [0.1, 0.1, 0.1, 0.1, 0.9]\n",
    "'''\n",
    "import numpy\n",
    "import random\n",
    "import math\n",
    "\n",
    "import nbimporter\n",
    "import epsilonGreedy\n",
    "\n",
    "from epsilonGreedy import EpsilonGreedy\n",
    "\n",
    "random.seed(1)\n",
    "\n",
    "means = [0.1, 0.1, 0.1, 0.1, 0.9]\n",
    "n_arms = len(means)\n",
    "random.shuffle(means)\n",
    "arms = [ BernoulliArm(mu) for mu in  means ]\n",
    "print(\"Best arms is {0} with success rate of {1:.1f}\". format( means.index( max(means) ) ,  max(means)))\n",
    "\n",
    "fPointer = open('D:/BanditsSimulationDataSets/epsilon-greedy-with-multiple-epsilons.tsv', 'w')\n",
    "for epsilon in [ 0.1, 0.2, 0.3, 0.4, 0.5] :\n",
    "    algo = epsilonGreedy.EpsilonGreedy( epsilon )\n",
    "    algo.initialize ( n_arms )\n",
    "    results = testing_algorithm( algo, arms, 5000, 250)\n",
    "    for i in range( len(results[0])):\n",
    "        fPointer.write( str(epsilon) + '\\t' )\n",
    "        fPointer.write( '\\t'.join( [ str( results[j][i] ) for j in range( len(results) )])  + '\\n')\n",
    "fPointer.close()"
   ]
  },
  {
   "cell_type": "code",
   "execution_count": 7,
   "metadata": {
    "collapsed": true
   },
   "outputs": [],
   "source": [
    "'''\n",
    "    Simulation for annealing epsilon-greedy algorithm with 5 arms, whose esimated sucess rates : [0.1, 0.1, 0.1, 0.1, 0.9]\n",
    "'''\n",
    "\n",
    "import numpy\n",
    "import random\n",
    "import math\n",
    "\n",
    "import nbimporter\n",
    "import epsilonGreedy\n",
    "\n",
    "from epsilonGreedy import AnnealingEpsilonGreedy\n",
    "from DebuggingBanditAlgorithms import BernoulliArm\n",
    "from DebuggingBanditAlgorithms import testing_algorithm\n",
    "random.seed(1)\n",
    "means = [ 0.1, 0.1, 0.1, 0.1, 0.9]\n",
    "n_arms = len(means)\n",
    "random.shuffle(means)\n",
    "arms = [  BernoulliArm(mu) for mu in means ]\n",
    "\n",
    "f = open( 'D:/BanditsSimulationDataSets/annealing_epsilon_greedy_results.tsv', 'w')\n",
    "\n",
    "algo = AnnealingEpsilonGreedy ( )\n",
    "algo.initialize(n_arms)\n",
    "results = testing_algorithm ( algo, arms, 5000, 250 )\n",
    "for i in range( len(results[0]) ):\n",
    "    f.write( '\\t'.join( [ str( results[j][i]) for j in range( len(results) ) ] )  + '\\n')\n",
    "f.close()"
   ]
  },
  {
   "cell_type": "code",
   "execution_count": 9,
   "metadata": {
    "collapsed": true
   },
   "outputs": [],
   "source": [
    "'''\n",
    "    Simulation for standard softmax algorithm with 5 arms, whose esimated sucess rates : [0.1, 0.1, 0.1, 0.1, 0.9]\n",
    "'''\n",
    "import numpy\n",
    "import random\n",
    "import math\n",
    "\n",
    "import nbimporter\n",
    "import epsilonGreedy\n",
    "\n",
    "from SoftMax import SoftMax\n",
    "from DebuggingBanditAlgorithms import BernoulliArm\n",
    "from DebuggingBanditAlgorithms import testing_algorithm\n",
    "random.seed(1)\n",
    "means = [ 0.1, 0.1, 0.1, 0.1, 0.9]\n",
    "n_arms = len(means)\n",
    "random.shuffle(means)\n",
    "arms = [  BernoulliArm(mu) for mu in means ]\n",
    "\n",
    "f = open( 'D:/BanditsSimulationDataSets//standard_softmax_results.tsv', 'w')\n",
    "for temperature in [ 0.1, 0.2, 0.3, 0.4, 0.5] :\n",
    "    algo = SoftMax ( temperature )\n",
    "    algo.initialize(n_arms)\n",
    "    results = testing_algorithm ( algo, arms, 5000, 250 )\n",
    "    for i in range( len(results[0]) ):\n",
    "        f.write( str(temperature)  + '\\t')\n",
    "        f.write( '\\t'.join( [ str( results[j][i]) for j in range( len(results) ) ] )  + '\\n')\n",
    "f.close()"
   ]
  },
  {
   "cell_type": "code",
   "execution_count": 10,
   "metadata": {
    "collapsed": true
   },
   "outputs": [],
   "source": [
    "'''\n",
    "    Simulation for annealing epsilon-greedy algorithm with 5 arms, whose esimated sucess rates : [0.1, 0.1, 0.1, 0.1, 0.9]\n",
    "'''\n",
    "\n",
    "import numpy\n",
    "import random\n",
    "import math\n",
    "\n",
    "import nbimporter\n",
    "import SoftMax\n",
    "\n",
    "from SoftMax import AnnealingSoftMax\n",
    "from DebuggingBanditAlgorithms import BernoulliArm\n",
    "from DebuggingBanditAlgorithms import testing_algorithm\n",
    "random.seed(1)\n",
    "means = [ 0.1, 0.1, 0.1, 0.1, 0.9]\n",
    "n_arms = len(means)\n",
    "random.shuffle(means)\n",
    "arms = [  BernoulliArm(mu) for mu in means ]\n",
    "\n",
    "f = open( 'D:/BanditsSimulationDataSets/annealing_softmax_results.tsv', 'w')\n",
    "\n",
    "algo = AnnealingSoftMax ( )\n",
    "algo.initialize(n_arms)\n",
    "results = testing_algorithm ( algo, arms, 5000, 250 )\n",
    "for i in range( len(results[0]) ):\n",
    "    f.write( '\\t'.join( [ str( results[j][i]) for j in range( len(results) ) ] )  + '\\n')\n",
    "f.close()"
   ]
  },
  {
   "cell_type": "code",
   "execution_count": 1,
   "metadata": {},
   "outputs": [
    {
     "name": "stdout",
     "output_type": "stream",
     "text": [
      "Importing Jupyter notebook from UpperConfidenceBound.ipynb\n",
      "Importing Jupyter notebook from DebuggingBanditAlgorithms.ipynb\n",
      "Importing Jupyter notebook from epsilonGreedy.ipynb\n",
      "Importing Jupyter notebook from SoftMax.ipynb\n"
     ]
    }
   ],
   "source": [
    "'''\n",
    "    Simulation for annealing epsilon-greedy algorithm with 5 arms, whose esimated sucess rates : [0.1, 0.1, 0.1, 0.1, 0.9]\n",
    "'''\n",
    "\n",
    "import numpy\n",
    "import random\n",
    "import math\n",
    "\n",
    "import nbimporter\n",
    "import UpperConfidenceBound\n",
    "\n",
    "from UpperConfidenceBound import UCB1\n",
    "from DebuggingBanditAlgorithms import BernoulliArm\n",
    "from DebuggingBanditAlgorithms import testing_algorithm\n",
    "random.seed(1)\n",
    "means = [ 0.1, 0.1, 0.1, 0.1, 0.9]\n",
    "n_arms = len(means)\n",
    "random.shuffle(means)\n",
    "arms = [  BernoulliArm(mu) for mu in means ]\n",
    "\n",
    "f = open( 'D:/BanditsSimulationDataSets/ucb1_results.tsv', 'w')\n",
    "\n",
    "algo = UCB1 ( )\n",
    "algo.initialize(n_arms)\n",
    "results = testing_algorithm ( algo, arms, 5000, 250 )\n",
    "for i in range( len(results[0]) ):\n",
    "    f.write( '\\t'.join( [ str( results[j][i]) for j in range( len(results) ) ] )  + '\\n')\n",
    "f.close()\n"
   ]
  }
 ],
 "metadata": {
  "kernelspec": {
   "display_name": "Python [default]",
   "language": "python",
   "name": "python3"
  },
  "language_info": {
   "codemirror_mode": {
    "name": "ipython",
    "version": 3
   },
   "file_extension": ".py",
   "mimetype": "text/x-python",
   "name": "python",
   "nbconvert_exporter": "python",
   "pygments_lexer": "ipython3",
   "version": "3.6.1"
  }
 },
 "nbformat": 4,
 "nbformat_minor": 2
}
