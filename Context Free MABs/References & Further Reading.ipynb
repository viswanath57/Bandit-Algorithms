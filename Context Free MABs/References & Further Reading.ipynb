{
 "cells": [
  {
   "cell_type": "markdown",
   "metadata": {},
   "source": [
    "##### Other Algorithms to solve Multi Arm Bandit Problem\n",
    "- Exp3 & Exp4 : \"The Nonstochastic Multiarmed Bandit Problem\"\n",
    "- The Knowledge Gradient: A knowledge gradient policy for sequential information collection.\n",
    "- Randomized Probability Matching: A modern bayseian look at the multiarm bandit problem\n",
    "- Thompson Sampling: An empricial evluation of thompson sampling\n"
   ]
  },
  {
   "cell_type": "markdown",
   "metadata": {},
   "source": [
    "##### Contextual  Bandit Algorithms\n",
    "- LinUCB: A contextual bandit approach to Personalized News Article Recommendation\n",
    "- GLMUCB: Parametric Bandits: The generalized linear case\n",
    "- Learning for contextual Bandits\n",
    "- The epoch-greedy algorithm for contextual multi-arm bandits."
   ]
  },
  {
   "cell_type": "markdown",
   "metadata": {},
   "source": [
    "##### Theoretical readings\n",
    "- Sequential Decision making in Non-Stochastic Enviornments\n",
    "- Online learning and Online Convex Optimization\n"
   ]
  },
  {
   "cell_type": "markdown",
   "metadata": {},
   "source": [
    "##### Research Readings ( Uncategorized )\n",
    "- Naive filterbots for robust cold-start recommendations\n",
    "- Simulation studies of multi-arm bandits with covariates\n",
    "- Explore/Exploit schemes for web content optimization\n",
    "- Online models for web content optimization\n",
    "- Just in time contextual advertising\n",
    "- The adpative web - Methods and Strategies of Web Personalization\n",
    "- Spatio-temporal models for estimating the click-through rate\n",
    "- Exploration - exploitation tradeoff using variance estimates in multi-arm bandints\n",
    "- Dynamic ad layout revenue optimization for display advertising\n",
    "- The epoch-greey algorithm for multi-armed bandits with side information\n",
    "- Unbiased offline evaluation of contextual bandit based news article recommendaiton algorithms\n",
    "- Ad-click prediction : A view from trenches\n",
    "- Mutli-armed bandit algorithms and empirical evaluation\n",
    "- **Exploration scavenging**\n",
    "- Finding the right consumer: Optimizing for conversions in display advertising\n",
    "\n"
   ]
  }
 ],
 "metadata": {
  "kernelspec": {
   "display_name": "Python 3",
   "language": "python",
   "name": "python3"
  },
  "language_info": {
   "codemirror_mode": {
    "name": "ipython",
    "version": 3
   },
   "file_extension": ".py",
   "mimetype": "text/x-python",
   "name": "python",
   "nbconvert_exporter": "python",
   "pygments_lexer": "ipython3",
   "version": "3.7.4"
  }
 },
 "nbformat": 4,
 "nbformat_minor": 2
}
